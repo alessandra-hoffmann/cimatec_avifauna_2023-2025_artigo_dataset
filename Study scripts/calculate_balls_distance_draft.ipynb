{
 "cells": [
  {
   "cell_type": "code",
   "execution_count": 2,
   "metadata": {},
   "outputs": [],
   "source": [
    "import cv2 \n",
    "import numpy as np \n",
    "import time\n",
    "import matplotlib.pyplot as plt"
   ]
  },
  {
   "cell_type": "code",
   "execution_count": 328,
   "metadata": {},
   "outputs": [],
   "source": [
    "\n",
    "\n",
    "# Parametros\n",
    "filename = \"foto3.jpg\"\n",
    "\n",
    "real_height = 400   # mm\n",
    "image_height = 1080 # pixels\n",
    "sensor_height = 5.4 # mm  \n",
    "focal_length = 18   # mm\n",
    "\n",
    "def calculate_distance(radius):\n",
    "    # https://photo.stackexchange.com/questions/12434/how-do-i-calculate-the-distance-of-an-object-in-a-photo\n",
    "    dem = focal_length * real_height * image_height \n",
    "    num = sensor_height * 2*radius \n",
    "    \n",
    "    distance_meters = dem/num/1000 \n",
    "\n",
    "    return distance_meters # meters\n"
   ]
  },
  {
   "cell_type": "markdown",
   "metadata": {},
   "source": [
    "Faz o pre processamento da imagem para colocar nas funções de detecção de circulos"
   ]
  },
  {
   "cell_type": "code",
   "execution_count": 227,
   "metadata": {},
   "outputs": [],
   "source": [
    "# Read image. \n",
    "img = cv2.imread(filename, cv2.IMREAD_COLOR) \n",
    "\n",
    "def blur_image(img, kernel=3,ERO=False,DIL=False,kernel2=3):\n",
    "    # blur image, and maybe Erode and Dilate\n",
    "\n",
    "    # Convert to grayscale. \n",
    "    if len(img.shape) > 2:\n",
    "        img = cv2.cvtColor(img, cv2.COLOR_BGR2GRAY) \n",
    "\n",
    "    # Blur using kernel. \n",
    "    gray_blurred = cv2.blur(img, (kernel, kernel)) \n",
    "\n",
    "    # gray_blurred = cv2.medianBlur(gray, 3) \n",
    "    \n",
    "    \n",
    "    if ERO:\n",
    "        ero = cv2.erode(gray_blurred, np.ones((kernel2 ,kernel2)))\n",
    "        gray_blurred = ero\n",
    "    if DIL:\n",
    "        dil = cv2.dilate(gray_blurred, np.ones((kernel2,kernel2)))\n",
    "        gray_blurred = dil\n",
    "\n",
    "    return gray_blurred\n",
    "\n",
    "processed_img = blur_image(img,kernel=3)\n",
    "\n",
    "cv2.imshow('teste',processed_img)\n",
    "plt.show()\n",
    "cv2.waitKey()\n",
    "cv2.destroyAllWindows()"
   ]
  },
  {
   "cell_type": "code",
   "execution_count": 314,
   "metadata": {},
   "outputs": [],
   "source": [
    "# TENTANDO VIA FILTRO DE COR\n",
    "# Chutei uma cor para filtrar em uma imagem especifica. Foi o que deu mais resultado até agora.\n",
    "\n",
    "img = cv2.imread(filename, cv2.IMREAD_COLOR) \n",
    "\n",
    "\n",
    "lower_blue = np.array([0, 0, 0]) \n",
    "upper_blue = np.array([255, 255, 150]) \n",
    "\n",
    "img = cv2.blur(img, (3, 3)) \n",
    "processed_img = img\n",
    "\n",
    "ero = cv2.erode(img, np.ones((5, 5)))\n",
    "processed_img = ero\n",
    "\n",
    "dil = cv2.dilate(processed_img, np.ones((3,3)))\n",
    "processed_img = dil\n",
    "\n",
    "\n",
    "# preparing the mask to overlay \n",
    "mask = cv2.inRange(processed_img, lower_blue, upper_blue) \n",
    "\n",
    "result = cv2.bitwise_and(processed_img,processed_img,mask = mask) \n",
    "processed_img = cv2.cvtColor(result, cv2.COLOR_BGR2GRAY) \n",
    "\n",
    "\n",
    "# cv2.imshow(\"filtro\",ero)\n",
    "# plt.show()\n",
    "# cv2.waitKey()\n",
    "# cv2.destroyAllWindows()\n",
    "\n",
    "# # cv2.imshow(\"filtro\",gray_blurred)\n",
    "# # plt.show()\n",
    "# # cv2.waitKey()\n",
    "# # cv2.destroyAllWindows()\n",
    "\n",
    "# cv2.imshow(\"filtro\",img)\n",
    "# plt.show()\n",
    "# cv2.waitKey()\n",
    "# cv2.destroyAllWindows()\n",
    "\n",
    "cv2.imshow(\"filtro\",result)\n",
    "plt.show()\n",
    "cv2.waitKey()\n",
    "cv2.destroyAllWindows()"
   ]
  },
  {
   "cell_type": "code",
   "execution_count": null,
   "metadata": {},
   "outputs": [],
   "source": [
    "# Apply Hough transform \n",
    "detected_circles = cv2.HoughCircles(processed_img,  \n",
    "                   cv2.HOUGH_GRADIENT, 2, 50, param1 = 50, # param1 = 50, param2= 10\n",
    "                    param2 = 10, minRadius = 2, maxRadius =8) \n",
    "\n",
    "# print(len(detected_circles))\n",
    "# Draw circles that are detected. \n",
    "if detected_circles is not None: \n",
    "  \n",
    "    # Convert the circle parameters a, b and r to integers. \n",
    "    # print(detected_circles)\n",
    "    # detected_circles = np.uint16(np.around(detected_circles)) \n",
    "  \n",
    "    for pt in detected_circles[0, :]: \n",
    "        a, b, r = pt[0], pt[1], pt[2] \n",
    "        a, b, r = np.uint16((a,b,r))\n",
    "\n",
    "        # Draw the circumference of the circle. \n",
    "        cv2.circle(img, (a, b), r, (0, 255, 0), 1) \n",
    "        cv2.circle(processed_img, (a, b), r, (0, 255, 0), 1) \n",
    "\n",
    "        text = str( round(calculate_distance(pt[2])) )\n",
    "\n",
    "        # cv2.putText(processed_img,text,(a,b),fontFace=1,fontScale=1,color=255)\n",
    "        cv2.putText(img,text,(a,b),fontFace=1,fontScale=1,color=255)\n",
    "\n",
    "cv2.imshow(\"Detected Circle\", processed_img) \n",
    "plt.show()\n",
    "cv2.waitKey(0) \n",
    "cv2.destroyAllWindows()\n",
    "\n",
    "\n",
    "cv2.imshow(\"Detected Circle\", img) \n",
    "plt.show()\n",
    "cv2.waitKey(0) \n",
    "cv2.destroyAllWindows()\n"
   ]
  },
  {
   "cell_type": "code",
   "execution_count": 155,
   "metadata": {},
   "outputs": [
    {
     "data": {
      "text/plain": [
       "True"
      ]
     },
     "execution_count": 155,
     "metadata": {},
     "output_type": "execute_result"
    }
   ],
   "source": [
    "# Salvar a figura\n",
    "cv2.imwrite(\"circles_output_\"+ filename, img) "
   ]
  },
  {
   "cell_type": "markdown",
   "metadata": {},
   "source": [
    "## Tentar selcionar por click\n",
    "Deu muito certo essa tentativa não\n",
    "\n",
    "A ideia era clicar nas bolas, para pegar as cores dela"
   ]
  },
  {
   "cell_type": "code",
   "execution_count": 285,
   "metadata": {},
   "outputs": [
    {
     "name": "stdout",
     "output_type": "stream",
     "text": [
      "677   445\n",
      "750   732\n",
      "1142   159\n",
      "1108   568\n",
      "[[677, 445], [750, 732], [1142, 159], [1108, 568]]\n"
     ]
    }
   ],
   "source": [
    "img = cv2.imread(filename, cv2.IMREAD_COLOR) \n",
    "\n",
    "def click_event(event, x, y, flags, params): \n",
    "    global pos_click\n",
    "    # checking for left mouse clicks \n",
    "    if event == cv2.EVENT_LBUTTONDOWN: \n",
    "  \n",
    "        # displaying the coordinates \n",
    "        # on the Shell \n",
    "        pos_click.append([x,y])\n",
    "        print(x, ' ', y) \n",
    "  \n",
    "        # displaying the coordinates \n",
    "        # on the image window \n",
    "        # font = cv2.FONT_HERSHEY_SIMPLEX \n",
    "        # cv2.putText(img, str(x) + ',' +\n",
    "        #             str(y), (x,y), font, \n",
    "        #             1, (255, 0, 0), 2) \n",
    "        cv2.imshow('image', img) \n",
    "\n",
    "    return x\n",
    "\n",
    "pos_click = []\n",
    "cv2.imshow('image',img)\n",
    "plt.show()\n",
    "cv2.setMouseCallback('image', click_event) \n",
    "\n",
    "cv2.waitKey(0)\n",
    "cv2.destroyAllWindows()\n",
    "\n",
    "print(pos_click)"
   ]
  },
  {
   "cell_type": "code",
   "execution_count": 286,
   "metadata": {},
   "outputs": [
    {
     "data": {
      "text/plain": [
       "[3, 2, 1]"
      ]
     },
     "execution_count": 286,
     "metadata": {},
     "output_type": "execute_result"
    }
   ],
   "source": [
    "# COLOR_BGR 2 RGB\n",
    "def change_rgb(input):\n",
    "    # return [input[1], input[2],input[0]]\n",
    "    return [input[2], input[1],input[0]]\n",
    "\n",
    "change_rgb([1,2,3])"
   ]
  },
  {
   "cell_type": "code",
   "execution_count": 287,
   "metadata": {},
   "outputs": [
    {
     "name": "stdout",
     "output_type": "stream",
     "text": [
      "(3, 4, 3)\n"
     ]
    },
    {
     "data": {
      "image/png": "[encoded data removed]",
      "text/plain": [
       "<Figure size 640x480 with 1 Axes>"
      ]
     },
     "metadata": {},
     "output_type": "display_data"
    }
   ],
   "source": [
    "limiar = 20\n",
    "\n",
    "colors = []\n",
    "for i in range(len(pos_click)):\n",
    "    # print(pos_click[i])\n",
    "    colors.append(change_rgb(img[pos_click[i][1]][pos_click[i][0]] ))\n",
    "    # print( img[pos_click[i][1]][pos_click[i][0]] )\n",
    "\n",
    "colors_min_max = [colors + limiar*np.ones(np.shape(colors),dtype=int) , colors, colors - limiar*np.ones(np.shape(colors),dtype=int)]\n",
    "print(np.shape(colors_min_max))\n",
    "plt.imshow(colors_min_max)\n",
    "plt.show()\n",
    "# print(np.shape(colors) )"
   ]
  },
  {
   "cell_type": "code",
   "execution_count": 288,
   "metadata": {},
   "outputs": [],
   "source": [
    "folga = 10\n",
    "\n",
    "\n",
    "def unions(a):\n",
    "    # a = [(7, 10), (11, 13), (11, 15), (14, 20), (23, 39)]\n",
    "    b = []\n",
    "    for begin,end in sorted(a):\n",
    "        if b and b[-1][1] >= begin - 1:\n",
    "            b[-1][1] = max(b[-1][1], end)\n",
    "        else:\n",
    "            b.append([begin, end])\n",
    "    return b\n",
    "\n",
    "# unions(B_intervals)\n",
    "\n",
    "# mask = cv2.inRange(processed_img, lower_thr, upper_thr) \n",
    "\n",
    "def create_composite_mask(img,colors, folga=10):\n",
    "    \n",
    "    R_intervals = [(c[0]-folga,c[0]+folga) for c in colors]\n",
    "    G_intervals = [(c[1]-folga,c[1]+folga) for c in colors]\n",
    "    B_intervals = [(c[2]-folga,c[2]+folga) for c in colors]\n",
    "\n",
    "    mask_R = np.zeros(img.shape[:2])\n",
    "    mask_G = np.zeros(img.shape[:2])\n",
    "    mask_B = np.zeros(img.shape[:2])\n",
    "    for R in R_intervals:\n",
    "        # print(R[0], R[1])\n",
    "        mask_R = (mask_R + cv2.inRange(img, \n",
    "                                     np.array([R[0],0,0]), \n",
    "                                     np.array([R[1],255,255]) \n",
    "                                     )  # bitwise or\n",
    "                )\n",
    "    mask_R = mask_R.clip(0,255)\n",
    "    for G in G_intervals:\n",
    "        mask_G = (mask_G + cv2.inRange(img, \n",
    "                                     np.array([0,G[0],0]), \n",
    "                                     np.array([255,G[1],255]) \n",
    "                                     )  # bitwise or\n",
    "                )\n",
    "    mask_G = mask_G.clip(0,255)\n",
    "\n",
    "    for B in B_intervals:\n",
    "        mask_B = (mask_B + cv2.inRange(img, \n",
    "                                     np.array([0,0,B[0]]), \n",
    "                                     np.array([255,255,B[1]]) \n",
    "                                     )  # bitwise or\n",
    "                )\n",
    "    mask_B = mask_B.clip(0,255)\n",
    "    \n",
    "    # return mask_R,mask_G,mask_B\n",
    "    return (np.multiply(mask_R,np.multiply(mask_B,mask_G) )/255/255).astype(np.uint8)\n",
    "\n",
    "mask = create_composite_mask(img,colors, folga=10)"
   ]
  },
  {
   "cell_type": "code",
   "execution_count": 289,
   "metadata": {},
   "outputs": [
    {
     "ename": "TypeError",
     "evalue": "'numpy.uint8' object is not callable",
     "output_type": "error",
     "traceback": [
      "\u001b[1;31m---------------------------------------------------------------------------\u001b[0m",
      "\u001b[1;31mTypeError\u001b[0m                                 Traceback (most recent call last)",
      "Cell \u001b[1;32mIn[289], line 13\u001b[0m\n\u001b[0;32m     10\u001b[0m     upper_thr \u001b[38;5;241m=\u001b[39m [\u001b[38;5;28mmax\u001b[39m(R), \u001b[38;5;28mmax\u001b[39m(G), \u001b[38;5;28mmax\u001b[39m(B)] \u001b[38;5;241m+\u001b[39m folga\u001b[38;5;241m*\u001b[39mnp\u001b[38;5;241m.\u001b[39mones((\u001b[38;5;241m1\u001b[39m,\u001b[38;5;241m3\u001b[39m))\n\u001b[0;32m     11\u001b[0m     \u001b[38;5;28;01mreturn\u001b[39;00m lower_thr, upper_thr\n\u001b[1;32m---> 13\u001b[0m calculate_color_threshold(colors,\u001b[38;5;241m10\u001b[39m)\n",
      "Cell \u001b[1;32mIn[289], line 10\u001b[0m, in \u001b[0;36mcalculate_color_threshold\u001b[1;34m(colors, folga)\u001b[0m\n\u001b[0;32m      7\u001b[0m B \u001b[38;5;241m=\u001b[39m [colors[i][\u001b[38;5;241m2\u001b[39m] \u001b[38;5;28;01mfor\u001b[39;00m i \u001b[38;5;129;01min\u001b[39;00m \u001b[38;5;28mrange\u001b[39m(np\u001b[38;5;241m.\u001b[39mshape(colors)[\u001b[38;5;241m0\u001b[39m])]\n\u001b[0;32m      9\u001b[0m lower_thr \u001b[38;5;241m=\u001b[39m [\u001b[38;5;28mmin\u001b[39m(R), \u001b[38;5;28mmin\u001b[39m(G), \u001b[38;5;28mmin\u001b[39m(B)] \u001b[38;5;241m-\u001b[39m folga\u001b[38;5;241m*\u001b[39mnp\u001b[38;5;241m.\u001b[39mones((\u001b[38;5;241m1\u001b[39m,\u001b[38;5;241m3\u001b[39m))\n\u001b[1;32m---> 10\u001b[0m upper_thr \u001b[38;5;241m=\u001b[39m [\u001b[38;5;28mmax\u001b[39m(R), \u001b[38;5;28mmax\u001b[39m(G), \u001b[38;5;28mmax\u001b[39m(B)] \u001b[38;5;241m+\u001b[39m folga\u001b[38;5;241m*\u001b[39mnp\u001b[38;5;241m.\u001b[39mones((\u001b[38;5;241m1\u001b[39m,\u001b[38;5;241m3\u001b[39m))\n\u001b[0;32m     11\u001b[0m \u001b[38;5;28;01mreturn\u001b[39;00m lower_thr, upper_thr\n",
      "\u001b[1;31mTypeError\u001b[0m: 'numpy.uint8' object is not callable"
     ]
    }
   ],
   "source": [
    "np.shape(colors)[0]\n",
    "\n",
    "# R, G, B\n",
    "def calculate_color_threshold(colors,folga):\n",
    "    R = [colors[i][0] for i in range(np.shape(colors)[0])]\n",
    "    G = [colors[i][1] for i in range(np.shape(colors)[0])]\n",
    "    B = [colors[i][2] for i in range(np.shape(colors)[0])]\n",
    "\n",
    "    lower_thr = [min(R), min(G), min(B)] - folga*np.ones((1,3))\n",
    "    upper_thr = [max(R), max(G), max(B)] + folga*np.ones((1,3))\n",
    "    return lower_thr, upper_thr\n",
    "\n",
    "calculate_color_threshold(colors,10)"
   ]
  },
  {
   "cell_type": "code",
   "execution_count": 291,
   "metadata": {},
   "outputs": [
    {
     "ename": "TypeError",
     "evalue": "'numpy.uint8' object is not callable",
     "output_type": "error",
     "traceback": [
      "\u001b[1;31m---------------------------------------------------------------------------\u001b[0m",
      "\u001b[1;31mTypeError\u001b[0m                                 Traceback (most recent call last)",
      "Cell \u001b[1;32mIn[291], line 34\u001b[0m\n\u001b[0;32m     29\u001b[0m         cv2\u001b[38;5;241m.\u001b[39mdestroyAllWindows()\n\u001b[0;32m     31\u001b[0m     \u001b[38;5;28;01mreturn\u001b[39;00m processed_img\n\u001b[1;32m---> 34\u001b[0m preprocess_img(filename,colors,folga \u001b[38;5;241m=\u001b[39m \u001b[38;5;241m30\u001b[39m, show_graph \u001b[38;5;241m=\u001b[39m \u001b[38;5;28;01mTrue\u001b[39;00m)\n",
      "Cell \u001b[1;32mIn[291], line 5\u001b[0m, in \u001b[0;36mpreprocess_img\u001b[1;34m(filename, colors, folga, show_graph)\u001b[0m\n\u001b[0;32m      1\u001b[0m \u001b[38;5;28;01mdef\u001b[39;00m \u001b[38;5;21mpreprocess_img\u001b[39m(filename,colors,folga \u001b[38;5;241m=\u001b[39m \u001b[38;5;241m10\u001b[39m, show_graph \u001b[38;5;241m=\u001b[39m \u001b[38;5;28;01mFalse\u001b[39;00m):\n\u001b[0;32m      2\u001b[0m     \u001b[38;5;66;03m# TENTANDO VIA FILTRO DE COR\u001b[39;00m\n\u001b[0;32m      3\u001b[0m     img \u001b[38;5;241m=\u001b[39m cv2\u001b[38;5;241m.\u001b[39mimread(filename, cv2\u001b[38;5;241m.\u001b[39mIMREAD_COLOR) \n\u001b[1;32m----> 5\u001b[0m     lower_thr, upper_thr \u001b[38;5;241m=\u001b[39m calculate_color_threshold(colors,folga)\n\u001b[0;32m      8\u001b[0m     img \u001b[38;5;241m=\u001b[39m cv2\u001b[38;5;241m.\u001b[39mblur(img, (\u001b[38;5;241m3\u001b[39m, \u001b[38;5;241m3\u001b[39m)) \n\u001b[0;32m      9\u001b[0m     processed_img \u001b[38;5;241m=\u001b[39m img\n",
      "Cell \u001b[1;32mIn[289], line 10\u001b[0m, in \u001b[0;36mcalculate_color_threshold\u001b[1;34m(colors, folga)\u001b[0m\n\u001b[0;32m      7\u001b[0m B \u001b[38;5;241m=\u001b[39m [colors[i][\u001b[38;5;241m2\u001b[39m] \u001b[38;5;28;01mfor\u001b[39;00m i \u001b[38;5;129;01min\u001b[39;00m \u001b[38;5;28mrange\u001b[39m(np\u001b[38;5;241m.\u001b[39mshape(colors)[\u001b[38;5;241m0\u001b[39m])]\n\u001b[0;32m      9\u001b[0m lower_thr \u001b[38;5;241m=\u001b[39m [\u001b[38;5;28mmin\u001b[39m(R), \u001b[38;5;28mmin\u001b[39m(G), \u001b[38;5;28mmin\u001b[39m(B)] \u001b[38;5;241m-\u001b[39m folga\u001b[38;5;241m*\u001b[39mnp\u001b[38;5;241m.\u001b[39mones((\u001b[38;5;241m1\u001b[39m,\u001b[38;5;241m3\u001b[39m))\n\u001b[1;32m---> 10\u001b[0m upper_thr \u001b[38;5;241m=\u001b[39m [\u001b[38;5;28mmax\u001b[39m(R), \u001b[38;5;28mmax\u001b[39m(G), \u001b[38;5;28mmax\u001b[39m(B)] \u001b[38;5;241m+\u001b[39m folga\u001b[38;5;241m*\u001b[39mnp\u001b[38;5;241m.\u001b[39mones((\u001b[38;5;241m1\u001b[39m,\u001b[38;5;241m3\u001b[39m))\n\u001b[0;32m     11\u001b[0m \u001b[38;5;28;01mreturn\u001b[39;00m lower_thr, upper_thr\n",
      "\u001b[1;31mTypeError\u001b[0m: 'numpy.uint8' object is not callable"
     ]
    }
   ],
   "source": [
    "def preprocess_img(filename,colors,folga = 10, show_graph = False):\n",
    "    # TENTANDO VIA FILTRO DE COR\n",
    "    img = cv2.imread(filename, cv2.IMREAD_COLOR) \n",
    "\n",
    "    lower_thr, upper_thr = calculate_color_threshold(colors,folga)\n",
    "\n",
    "\n",
    "    img = cv2.blur(img, (3, 3)) \n",
    "    processed_img = img\n",
    "\n",
    "    ero = cv2.erode(img, np.ones((5, 5)))\n",
    "    processed_img = ero\n",
    "\n",
    "    dil = cv2.dilate(processed_img, np.ones((3,3)))\n",
    "    processed_img = dil\n",
    "\n",
    "\n",
    "    # preparing the mask to overlay \n",
    "    # mask = cv2.inRange(processed_img, lower_thr, upper_thr) \n",
    "    mask = create_composite_mask(processed_img, colors, folga)\n",
    "\n",
    "    result = cv2.bitwise_and(processed_img,processed_img,mask = mask) \n",
    "    processed_img = cv2.cvtColor(result, cv2.COLOR_BGR2GRAY) \n",
    "\n",
    "    if show_graph:\n",
    "        cv2.imshow(\"Imagem Filtrada de cor\",result)\n",
    "        plt.show()\n",
    "        cv2.waitKey()\n",
    "        cv2.destroyAllWindows()\n",
    "\n",
    "    return processed_img\n",
    "\n",
    "\n",
    "preprocess_img(filename,colors,folga = 30, show_graph = True)"
   ]
  },
  {
   "cell_type": "code",
   "execution_count": 560,
   "metadata": {},
   "outputs": [
    {
     "data": {
      "text/plain": [
       "[array([1141. ,  159. ,    6.8], dtype=float32),\n",
       " array([1085. ,  785. ,    3.4], dtype=float32),\n",
       " array([749., 733.,   4.], dtype=float32)]"
      ]
     },
     "execution_count": 560,
     "metadata": {},
     "output_type": "execute_result"
    }
   ],
   "source": [
    "# Apply Hough transform \n",
    "detected_circles = cv2.HoughCircles(processed_img,  \n",
    "                   cv2.HOUGH_GRADIENT, 2, 50, param1 = 50, # param1 = 50, param2= 10\n",
    "               param2 = 10, minRadius = 1, maxRadius =8) \n",
    "\n",
    "r_folga = 10\n",
    "new_detected_circles = [pt for pt in detected_circles[0, :] if any([(i[0]-pt[0])**2 + (i[1]-pt[1])**2 <= r + r_folga for i in pos_click])]\n",
    "\n",
    "new_detected_circles"
   ]
  },
  {
   "cell_type": "code",
   "execution_count": 561,
   "metadata": {},
   "outputs": [],
   "source": [
    "# Apply Hough transform \n",
    "detected_circles = cv2.HoughCircles(processed_img,  \n",
    "                   cv2.HOUGH_GRADIENT, 2, 50, param1 = 50, # param1 = 50, param2= 10\n",
    "               param2 = 10, minRadius = 1, maxRadius =8) \n",
    "\n",
    "r_folga = 10\n",
    "\n",
    "# print(len(detected_circles))\n",
    "# Draw circles that are detected. \n",
    "if detected_circles is not None: \n",
    "  \n",
    "    # Convert the circle parameters a, b and r to integers. \n",
    "    # print(detected_circles)\n",
    "    # detected_circles = np.uint16(np.around(detected_circles)) \n",
    "  \n",
    "    for pt in detected_circles[0, :]: \n",
    "        a, b, r = pt[0], pt[1], pt[2]\n",
    "        # (x-x0)^2 + (y-y0)^2 <= r \n",
    "        if True:\n",
    "            a, b, r = np.uint16((a,b,r))\n",
    "\n",
    "            # Draw the circumference of the circle. \n",
    "            cv2.circle(img, (a, b), r, (0, 255, 0), 1) \n",
    "            cv2.circle(processed_img, (a, b), r, (0, 255, 0), 1) \n",
    "\n",
    "            # Draw a small circle (of radius 1) to show the center. \n",
    "            # cv2.circle(img, (a, b), 1, (0, 0, 255), 3) \n",
    "            # cv2.imshow(\"Detected Circle\", img) \n",
    "            # time.sleep(1)\n",
    "            text = str( round(calculate_distance(pt[2])) )\n",
    "            # text = str( round(pt[2],1) )\n",
    "\n",
    "            # print(text)\n",
    "            # cv2.putText(gray_blurred,text,(a,b),fontFace=1,fontScale=1,color=255)\n",
    "            cv2.putText(img,text,(a,b),fontFace=1,fontScale=1,color=255)\n",
    "\n",
    "cv2.imshow(\"Detected Circle\", processed_img) \n",
    "plt.show()\n",
    "cv2.waitKey(0) \n",
    "cv2.destroyAllWindows()\n",
    "\n",
    "\n",
    "cv2.imshow(\"Detected Circle\", img) \n",
    "plt.show()\n",
    "cv2.waitKey(0) \n",
    "cv2.destroyAllWindows()\n"
   ]
  },
  {
   "cell_type": "markdown",
   "metadata": {},
   "source": [
    "## Testes anteriores"
   ]
  },
  {
   "cell_type": "code",
   "execution_count": null,
   "metadata": {},
   "outputs": [],
   "source": [
    "# Read image. \n",
    "img = cv2.imread(filename, cv2.IMREAD_COLOR) \n",
    "# print(img)\n",
    "# img = result\n",
    "\n",
    "\n",
    "\n",
    "# Convert to grayscale. \n",
    "gray = cv2.cvtColor(img, cv2.COLOR_BGR2GRAY) \n",
    "# gray = cv2.cvtColor(img, 83) \n",
    "\n",
    "\n",
    "# Blur using 3 * 3 kernel. \n",
    "processed_img = cv2.blur(gray, (3, 3)) \n",
    "\n",
    "\n",
    "\n",
    "# # # Adaptive thresholding to handle varying lighting and shadows\n",
    "# adaptive_thresh = cv2.adaptiveThreshold(\n",
    "#     gray_blurred, 255, cv2.ADAPTIVE_THRESH_GAUSSIAN_C, cv2.THRESH_BINARY, 11, 1\n",
    "# )\n",
    "# gray_blurred = adaptive_thresh\n",
    "\n",
    "# Use morphological closing to fill gaps caused by shadows\n",
    "kernel = np.ones((3, 3), np.uint8)\n",
    "closed = cv2.morphologyEx(processed_img, cv2.MORPH_CLOSE, kernel)\n",
    "processed_img = closed\n",
    "\n",
    "canny = cv2.Canny(processed_img,50,10)\n",
    "\n",
    "cv2.imshow('teste',processed_img)\n",
    "plt.show()\n",
    "cv2.waitKey()\n",
    "cv2.destroyAllWindows()"
   ]
  },
  {
   "cell_type": "code",
   "execution_count": 292,
   "metadata": {},
   "outputs": [],
   "source": [
    "canny = cv2.Canny(processed_img,50,10)\n",
    "\n",
    "cv2.imshow('teste',canny)\n",
    "plt.show()\n",
    "cv2.waitKey()\n",
    "cv2.destroyAllWindows()"
   ]
  },
  {
   "cell_type": "code",
   "execution_count": 38,
   "metadata": {},
   "outputs": [],
   "source": [
    "cv2.destroyAllWindows()"
   ]
  },
  {
   "cell_type": "markdown",
   "metadata": {},
   "source": [
    "# Calculo por matematica"
   ]
  },
  {
   "cell_type": "code",
   "execution_count": 35,
   "metadata": {},
   "outputs": [],
   "source": [
    "altura_torre = 115360 + 9640 \n",
    "altura_camera = 12000 + 4360 + 12000 + 2500\n",
    "metade_horizontal = 14300\n",
    "offset_horizontal = 0 \n",
    "camera_horizontal = metade_horizontal - offset_horizontal\n",
    "\n",
    "tamanho_vao = 824 ## verificar\n",
    "tamanho_cabo = 1200 ## verificar\n",
    "\n",
    "ratio = tamanho_cabo/tamanho_vao"
   ]
  },
  {
   "cell_type": "code",
   "execution_count": 36,
   "metadata": {},
   "outputs": [
    {
     "data": {
      "text/plain": [
       "0.24688"
      ]
     },
     "execution_count": 36,
     "metadata": {},
     "output_type": "execute_result"
    }
   ],
   "source": [
    "altura_camera/altura_torre"
   ]
  },
  {
   "cell_type": "code",
   "execution_count": 37,
   "metadata": {},
   "outputs": [],
   "source": [
    "from sympy.functions.elementary.hyperbolic import cosh, sinh\n",
    "\n",
    "def catenary(x, a,b,c):\n",
    "    return c + a*cosh((x-b)/a)"
   ]
  },
  {
   "cell_type": "code",
   "execution_count": 38,
   "metadata": {},
   "outputs": [
    {
     "data": {
      "text/latex": [
       "$\\displaystyle 1.54308063481524$"
      ],
      "text/plain": [
       "1.54308063481524"
      ]
     },
     "execution_count": 38,
     "metadata": {},
     "output_type": "execute_result"
    }
   ],
   "source": [
    "catenary(1,1,0,0)"
   ]
  },
  {
   "cell_type": "code",
   "execution_count": 68,
   "metadata": {},
   "outputs": [
    {
     "ename": "ZeroDivisionError",
     "evalue": "matrix is numerically singular",
     "output_type": "error",
     "traceback": [
      "\u001b[1;31m---------------------------------------------------------------------------\u001b[0m",
      "\u001b[1;31mZeroDivisionError\u001b[0m                         Traceback (most recent call last)",
      "Cell \u001b[1;32mIn[68], line 15\u001b[0m\n\u001b[0;32m     11\u001b[0m y2 \u001b[38;5;241m=\u001b[39m y1\n\u001b[0;32m     13\u001b[0m ratio \u001b[38;5;241m=\u001b[39m \u001b[38;5;241m1.5\u001b[39m\n\u001b[1;32m---> 15\u001b[0m nsolve((catenary(x1,argA,argB,argC)\u001b[38;5;241m-\u001b[39my1,\n\u001b[0;32m     16\u001b[0m         catenary(x2,argA,argB,argC)\u001b[38;5;241m-\u001b[39my2,     \n\u001b[0;32m     17\u001b[0m         ratio\u001b[38;5;241m*\u001b[39msqrt(x2\u001b[38;5;241m^\u001b[39m\u001b[38;5;241m2\u001b[39m \u001b[38;5;241m+\u001b[39m (y2\u001b[38;5;241m-\u001b[39my1)\u001b[38;5;241m^\u001b[39m\u001b[38;5;241m2\u001b[39m) \u001b[38;5;241m-\u001b[39m argA \u001b[38;5;241m*\u001b[39m(sinh((x2\u001b[38;5;241m-\u001b[39margB)\u001b[38;5;241m/\u001b[39margA) \u001b[38;5;241m+\u001b[39m sinh(argB\u001b[38;5;241m/\u001b[39margA))\n\u001b[0;32m     18\u001b[0m         ), \n\u001b[0;32m     19\u001b[0m        (argA, argB, argC), \n\u001b[0;32m     20\u001b[0m        (random\u001b[38;5;241m.\u001b[39mrandom()\u001b[38;5;241m*\u001b[39m\u001b[38;5;241m10\u001b[39m\u001b[38;5;241m+\u001b[39m\u001b[38;5;241m1\u001b[39m,x2\u001b[38;5;241m/\u001b[39m\u001b[38;5;241m2\u001b[39m,y1))\n",
      "File \u001b[1;32mc:\\Users\\plima\\anaconda3\\Lib\\site-packages\\sympy\\utilities\\decorator.py:87\u001b[0m, in \u001b[0;36mconserve_mpmath_dps.<locals>.func_wrapper\u001b[1;34m(*args, **kwargs)\u001b[0m\n\u001b[0;32m     85\u001b[0m dps \u001b[38;5;241m=\u001b[39m mpmath\u001b[38;5;241m.\u001b[39mmp\u001b[38;5;241m.\u001b[39mdps\n\u001b[0;32m     86\u001b[0m \u001b[38;5;28;01mtry\u001b[39;00m:\n\u001b[1;32m---> 87\u001b[0m     \u001b[38;5;28;01mreturn\u001b[39;00m func(\u001b[38;5;241m*\u001b[39margs, \u001b[38;5;241m*\u001b[39m\u001b[38;5;241m*\u001b[39mkwargs)\n\u001b[0;32m     88\u001b[0m \u001b[38;5;28;01mfinally\u001b[39;00m:\n\u001b[0;32m     89\u001b[0m     mpmath\u001b[38;5;241m.\u001b[39mmp\u001b[38;5;241m.\u001b[39mdps \u001b[38;5;241m=\u001b[39m dps\n",
      "File \u001b[1;32mc:\\Users\\plima\\anaconda3\\Lib\\site-packages\\sympy\\solvers\\solvers.py:3104\u001b[0m, in \u001b[0;36mnsolve\u001b[1;34m(dict, *args, **kwargs)\u001b[0m\n\u001b[0;32m   3102\u001b[0m J \u001b[38;5;241m=\u001b[39m lambdify(fargs, J, modules)\n\u001b[0;32m   3103\u001b[0m \u001b[38;5;66;03m# solve the system numerically\u001b[39;00m\n\u001b[1;32m-> 3104\u001b[0m x \u001b[38;5;241m=\u001b[39m findroot(f, x0, J\u001b[38;5;241m=\u001b[39mJ, \u001b[38;5;241m*\u001b[39m\u001b[38;5;241m*\u001b[39mkwargs)\n\u001b[0;32m   3105\u001b[0m \u001b[38;5;28;01mif\u001b[39;00m as_dict:\n\u001b[0;32m   3106\u001b[0m     \u001b[38;5;28;01mreturn\u001b[39;00m [\u001b[38;5;28mdict\u001b[39m(\u001b[38;5;28mzip\u001b[39m(fargs, [sympify(xi) \u001b[38;5;28;01mfor\u001b[39;00m xi \u001b[38;5;129;01min\u001b[39;00m x]))]\n",
      "File \u001b[1;32mc:\\Users\\plima\\anaconda3\\Lib\\site-packages\\mpmath\\calculus\\optimization.py:969\u001b[0m, in \u001b[0;36mfindroot\u001b[1;34m(ctx, f, x0, solver, tol, verbose, verify, **kwargs)\u001b[0m\n\u001b[0;32m    967\u001b[0m     maxsteps \u001b[38;5;241m=\u001b[39m iterations\u001b[38;5;241m.\u001b[39mmaxsteps\n\u001b[0;32m    968\u001b[0m i \u001b[38;5;241m=\u001b[39m \u001b[38;5;241m0\u001b[39m\n\u001b[1;32m--> 969\u001b[0m \u001b[38;5;28;01mfor\u001b[39;00m x, error \u001b[38;5;129;01min\u001b[39;00m iterations:\n\u001b[0;32m    970\u001b[0m     \u001b[38;5;28;01mif\u001b[39;00m verbose:\n\u001b[0;32m    971\u001b[0m         \u001b[38;5;28mprint\u001b[39m(\u001b[38;5;124m'\u001b[39m\u001b[38;5;124mx:    \u001b[39m\u001b[38;5;124m'\u001b[39m, x)\n",
      "File \u001b[1;32mc:\\Users\\plima\\anaconda3\\Lib\\site-packages\\mpmath\\calculus\\optimization.py:660\u001b[0m, in \u001b[0;36mMDNewton.__iter__\u001b[1;34m(self)\u001b[0m\n\u001b[0;32m    658\u001b[0m fxn \u001b[38;5;241m=\u001b[39m \u001b[38;5;241m-\u001b[39mfx\n\u001b[0;32m    659\u001b[0m Jx \u001b[38;5;241m=\u001b[39m J(\u001b[38;5;241m*\u001b[39mx0)\n\u001b[1;32m--> 660\u001b[0m s \u001b[38;5;241m=\u001b[39m \u001b[38;5;28mself\u001b[39m\u001b[38;5;241m.\u001b[39mctx\u001b[38;5;241m.\u001b[39mlu_solve(Jx, fxn)\n\u001b[0;32m    661\u001b[0m \u001b[38;5;28;01mif\u001b[39;00m \u001b[38;5;28mself\u001b[39m\u001b[38;5;241m.\u001b[39mverbose:\n\u001b[0;32m    662\u001b[0m     \u001b[38;5;28mprint\u001b[39m(\u001b[38;5;124m'\u001b[39m\u001b[38;5;124mJx:\u001b[39m\u001b[38;5;124m'\u001b[39m)\n",
      "File \u001b[1;32mc:\\Users\\plima\\anaconda3\\Lib\\site-packages\\mpmath\\matrices\\linalg.py:224\u001b[0m, in \u001b[0;36mLinearAlgebraMethods.lu_solve\u001b[1;34m(ctx, A, b, **kwargs)\u001b[0m\n\u001b[0;32m    221\u001b[0m         x \u001b[38;5;241m=\u001b[39m ctx\u001b[38;5;241m.\u001b[39mlu_solve(A, b)\n\u001b[0;32m    222\u001b[0m \u001b[38;5;28;01melse\u001b[39;00m:\n\u001b[0;32m    223\u001b[0m     \u001b[38;5;66;03m# LU factorization\u001b[39;00m\n\u001b[1;32m--> 224\u001b[0m     A, p \u001b[38;5;241m=\u001b[39m ctx\u001b[38;5;241m.\u001b[39mLU_decomp(A)\n\u001b[0;32m    225\u001b[0m     b \u001b[38;5;241m=\u001b[39m ctx\u001b[38;5;241m.\u001b[39mL_solve(A, b, p)\n\u001b[0;32m    226\u001b[0m     x \u001b[38;5;241m=\u001b[39m ctx\u001b[38;5;241m.\u001b[39mU_solve(A, b)\n",
      "File \u001b[1;32mc:\\Users\\plima\\anaconda3\\Lib\\site-packages\\mpmath\\matrices\\linalg.py:149\u001b[0m, in \u001b[0;36mLinearAlgebraMethods.LU_decomp\u001b[1;34m(ctx, A, overwrite, use_cache)\u001b[0m\n\u001b[0;32m    147\u001b[0m             A[i,k] \u001b[38;5;241m-\u001b[39m\u001b[38;5;241m=\u001b[39m A[i,j]\u001b[38;5;241m*\u001b[39mA[j,k]\n\u001b[0;32m    148\u001b[0m \u001b[38;5;28;01mif\u001b[39;00m ctx\u001b[38;5;241m.\u001b[39mabsmin(A[n \u001b[38;5;241m-\u001b[39m \u001b[38;5;241m1\u001b[39m,n \u001b[38;5;241m-\u001b[39m \u001b[38;5;241m1\u001b[39m]) \u001b[38;5;241m<\u001b[39m\u001b[38;5;241m=\u001b[39m tol:\n\u001b[1;32m--> 149\u001b[0m     \u001b[38;5;28;01mraise\u001b[39;00m \u001b[38;5;167;01mZeroDivisionError\u001b[39;00m(\u001b[38;5;124m'\u001b[39m\u001b[38;5;124mmatrix is numerically singular\u001b[39m\u001b[38;5;124m'\u001b[39m)\n\u001b[0;32m    150\u001b[0m \u001b[38;5;66;03m# cache decomposition\u001b[39;00m\n\u001b[0;32m    151\u001b[0m \u001b[38;5;28;01mif\u001b[39;00m \u001b[38;5;129;01mnot\u001b[39;00m overwrite \u001b[38;5;129;01mand\u001b[39;00m \u001b[38;5;28misinstance\u001b[39m(orig, ctx\u001b[38;5;241m.\u001b[39mmatrix):\n",
      "\u001b[1;31mZeroDivisionError\u001b[0m: matrix is numerically singular"
     ]
    }
   ],
   "source": [
    "from sympy import Symbol, nsolve, sqrt\n",
    "import random\n",
    "\n",
    "argA = Symbol('a')\n",
    "argB = Symbol('b')\n",
    "argC = Symbol('c')\n",
    "\n",
    "x1 = 0\n",
    "y1 = 1000\n",
    "x2 = tamanho_vao\n",
    "y2 = y1\n",
    "\n",
    "ratio = 1.5\n",
    "\n",
    "nsolve((catenary(x1,argA,argB,argC)-y1,\n",
    "        catenary(x2,argA,argB,argC)-y2,     \n",
    "        ratio*sqrt(x2^2 + (y2-y1)^2) - argA *(sinh((x2-argB)/argA) + sinh(argB/argA))\n",
    "        ), \n",
    "       (argA, argB, argC), \n",
    "       (random.random()*10+1,x2/2,y1))"
   ]
  },
  {
   "cell_type": "code",
   "execution_count": null,
   "metadata": {},
   "outputs": [],
   "source": []
  },
  {
   "cell_type": "code",
   "execution_count": 34,
   "metadata": {},
   "outputs": [
    {
     "data": {
      "text/plain": [
       "True"
      ]
     },
     "execution_count": 34,
     "metadata": {},
     "output_type": "execute_result"
    }
   ],
   "source": []
  },
  {
   "cell_type": "markdown",
   "metadata": {},
   "source": [
    "# Depth Anything V2"
   ]
  },
  {
   "cell_type": "code",
   "execution_count": 5,
   "metadata": {},
   "outputs": [
    {
     "data": {
      "text/plain": [
       "True"
      ]
     },
     "execution_count": 5,
     "metadata": {},
     "output_type": "execute_result"
    }
   ],
   "source": [
    "import cv2\n",
    "import torch \n",
    "import numpy as np\n",
    "# from Depth-Anything-V2.depth_anything_v2.dpt import DepthAnythingV2\n",
    "import importlib\n",
    "dpt = importlib.import_module(\"Depth-Anything-V2.depth_anything_v2.dpt\")\n",
    "DepthAnythingV2 = dpt.DepthAnythingV2\n",
    "\n",
    "util_transform = importlib.import_module(\"Depth-Anything-V2.depth_anything_v2.util.transform\")\n",
    "\n",
    "filename='foto3.jpg'\n",
    "torch.cuda.is_available()\n"
   ]
  },
  {
   "cell_type": "code",
   "execution_count": 32,
   "metadata": {},
   "outputs": [],
   "source": [
    "import math\n",
    "\n",
    "def filter_detection(roi, r, circ_thresh=0.6, fill_thresh=0.6):\n",
    "    \"\"\"\n",
    "    Check if the ROI (grayscale) is near-circular and filled.\n",
    "    Uses Otsu's thresholding and contour analysis.\n",
    "    Returns True if both circularity and fill ratio exceed the thresholds.\n",
    "    \"\"\"\n",
    "    ret, binary = cv2.threshold(roi, 0, 255, cv2.THRESH_BINARY + cv2.THRESH_OTSU)\n",
    "    contours, _ = cv2.findContours(binary, cv2.RETR_EXTERNAL, cv2.CHAIN_APPROX_SIMPLE)\n",
    "    if not contours:\n",
    "        return False\n",
    "    cnt = max(contours, key=cv2.contourArea)\n",
    "    area = cv2.contourArea(cnt)\n",
    "    perimeter = cv2.arcLength(cnt, True)\n",
    "    if perimeter == 0:\n",
    "        return False\n",
    "    circularity = 4 * math.pi * (area / (perimeter * perimeter))\n",
    "    expected_area = math.pi * (r ** 2)\n",
    "    fill_ratio = area / expected_area if expected_area > 0 else 0\n",
    "    return (circularity >= circ_thresh) and (fill_ratio >= fill_thresh)\n"
   ]
  },
  {
   "cell_type": "markdown",
   "metadata": {},
   "source": [
    "Crop the image, so its size is multiple of 14"
   ]
  },
  {
   "cell_type": "code",
   "execution_count": null,
   "metadata": {},
   "outputs": [
    {
     "name": "stdout",
     "output_type": "stream",
     "text": [
      "Memory allocated 0.0 Gb\n",
      "DEVICE: cuda\n",
      "0.0 6.939051\n"
     ]
    }
   ],
   "source": [
    "# https://github.com/DepthAnything/Depth-Anything-V2?tab=readme-ov-file\n",
    "torch.cuda.empty_cache()\n",
    "print(\"Memory allocated\", torch.cuda.memory_allocated()/1024/1024/1024,\"Gb\")\n",
    "\n",
    "DEVICE = 'cuda' if torch.cuda.is_available() else 'mps' if torch.backends.mps.is_available() else 'cpu'\n",
    "print(\"DEVICE:\", DEVICE)\n",
    "\n",
    "model_configs = {\n",
    "    'vits': {'encoder': 'vits', 'features': 64, 'out_channels': [48, 96, 192, 384]},\n",
    "    'vitb': {'encoder': 'vitb', 'features': 128, 'out_channels': [96, 192, 384, 768]},\n",
    "    'vitl': {'encoder': 'vitl', 'features': 256, 'out_channels': [256, 512, 1024, 1024]},\n",
    "    'vitg': {'encoder': 'vitg', 'features': 384, 'out_channels': [1536, 1536, 1536, 1536]}\n",
    "}\n",
    "    \n",
    "encoder = 'vitb' # or 'vits', 'vitl', 'vitg'\n",
    "\n",
    "depth_anything = DepthAnythingV2(**model_configs[encoder])\n",
    "depth_anything.load_state_dict(torch.load(f'Depth-Anything-V2/depth_anything_v2_{encoder}.pth', map_location='cpu'))\n",
    "depth_anything = depth_anything.to(DEVICE).eval()\n",
    "\n",
    "raw_image = cv2.imread(filename)\n",
    "\n",
    "# Crop the image, so its size is multiple of 14\n",
    "a,b,_ = raw_image.shape\n",
    "np.floor(a/14)*14\n",
    "np.floor(b/14)*14\n",
    "raw_image = raw_image[:int(np.floor(a/14)*14),:int(np.floor(b/14)*14),:]\n",
    "\n",
    "\n",
    "depth = depth_anything.infer_image(raw_image,   np.floor(a/14)*14)\n",
    "\n",
    "depth = (depth - depth.min()) / (depth.max() - depth.min()) * 255.0\n",
    "depth = depth.astype(np.uint8)\n",
    "\n",
    "depth\n",
    "print(depth.min(), depth.max())"
   ]
  },
  {
   "cell_type": "code",
   "execution_count": 7,
   "metadata": {},
   "outputs": [],
   "source": [
    "depth = (depth - depth.min()) / (depth.max() - depth.min()) * 255.0\n",
    "depth = depth.astype(np.uint8)\n",
    "\n",
    "cv2.imshow('depth',depth)\n",
    "\n",
    "cv2.waitKey()\n",
    "cv2.destroyAllWindows()"
   ]
  },
  {
   "cell_type": "code",
   "execution_count": 8,
   "metadata": {},
   "outputs": [],
   "source": [
    "processed_img = depth.copy()\n",
    "\n",
    "canny = cv2.Canny(processed_img,50,50)\n",
    "\n",
    "cv2.imshow('teste',canny)\n",
    "plt.show()\n",
    "cv2.waitKey() \n",
    "cv2.destroyAllWindows()"
   ]
  },
  {
   "cell_type": "code",
   "execution_count": 9,
   "metadata": {},
   "outputs": [],
   "source": [
    "import matplotlib.pyplot as plt"
   ]
  },
  {
   "cell_type": "code",
   "execution_count": 10,
   "metadata": {},
   "outputs": [
    {
     "data": {
      "text/plain": [
       "0"
      ]
     },
     "execution_count": 10,
     "metadata": {},
     "output_type": "execute_result"
    }
   ],
   "source": [
    "def check_depth_in_a_circle(depth, pt):\n",
    "    x,y = pt[0],pt[1]\n",
    "    r = pt[2]\n",
    "\n",
    "    # print(x,y,r)\n",
    "    ix_min, ix_max = (np.max([np.floor(x-r),0]).astype(int), np.min([np.ceil(x+r),1918-1]).astype(int))\n",
    "    iy_min, iy_max = (np.max([np.floor(y-r),0]).astype(int), np.min([np.ceil(y+r),1078-1]).astype(int))\n",
    "\n",
    "    max = 0\n",
    "    for ix in range(ix_min, ix_max):\n",
    "        for iy in range(iy_min, iy_max):\n",
    "            if( (ix-x)**2 + (iy-y)**2 <= r**2):\n",
    "                # print(ix,iy,depth[iy,ix],depth[iy,ix]>max)\n",
    "                if depth[iy,ix] > max:\n",
    "                    max = depth[iy,ix]\n",
    "                # else:\n",
    "                #     if max == 0:\n",
    "                #         print('depth: ',depth[iy,ix])\n",
    "\n",
    "\n",
    "    # cv2.rectangle(raw_image, [ix_min,iy_max], [ix_min+10,iy_max-10], color = (0, 255, 0), thickness=1)\n",
    "    # cv2.rectangle(raw_image, [ix_min,iy_min], [ix_max,iy_max], color = (255, 0, 0), thickness=1)\n",
    "    # cv2.putText(raw_image,\"oi\",(x,y),fontFace=1,fontScale=1,color=255)\n",
    "\n",
    "    return max\n",
    "\n",
    "check_depth_in_a_circle(depth, [10,10,3])"
   ]
  },
  {
   "cell_type": "code",
   "execution_count": 43,
   "metadata": {},
   "outputs": [],
   "source": [
    "# TENTANDO VIA FILTRO DE COR\n",
    "# Chutei uma cor para filtrar em uma imagem especifica. Foi o que deu mais resultado até agora.\n",
    "\n",
    "raw_image = cv2.imread(filename)\n",
    "a,b,_ = raw_image.shape\n",
    "np.floor(a/14)*14\n",
    "np.floor(b/14)*14\n",
    "raw_image = raw_image[:int(np.floor(a/14)*14),:int(np.floor(b/14)*14),:]\n",
    "\n",
    "\n",
    "# preparing the mask to overlay \n",
    "mask = cv2.inRange(raw_image, lower_blue, upper_blue) \n",
    "result = cv2.bitwise_and(raw_image,raw_image,mask = mask) \n",
    "processed_img = cv2.cvtColor(result, cv2.COLOR_BGR2GRAY) \n",
    "\n",
    "\n",
    "lower_blue = np.array([0, 0, 0]) \n",
    "upper_blue = np.array([255, 255, 150]) \n",
    "\n",
    "img = cv2.blur(raw_image, (3, 3)) \n",
    "processed_img = img\n",
    "\n",
    "ero = cv2.erode(img, np.ones((5, 5)))\n",
    "processed_img = ero\n",
    "\n",
    "dil = cv2.dilate(processed_img, np.ones((3,3)))\n",
    "processed_img = dil\n",
    "\n",
    "\n",
    "# # preparing the mask to overlay \n",
    "# mask = cv2.inRange(processed_img, lower_blue, upper_blue) \n",
    "# result = cv2.bitwise_and(processed_img,processed_img,mask = mask) \n",
    "# processed_img = cv2.cvtColor(result, cv2.COLOR_BGR2GRAY) \n",
    "\n",
    "\n",
    "# cv2.imshow(\"filtro\",ero)\n",
    "# plt.show()\n",
    "# cv2.waitKey()\n",
    "# cv2.destroyAllWindows()\n",
    "\n",
    "# # cv2.imshow(\"filtro\",gray_blurred)\n",
    "# # plt.show()\n",
    "# # cv2.waitKey()\n",
    "# # cv2.destroyAllWindows()\n",
    "\n",
    "# cv2.imshow(\"filtro\",img)\n",
    "# plt.show()\n",
    "# cv2.waitKey()\n",
    "# cv2.destroyAllWindows()\n",
    "\n",
    "cv2.imshow(\"filtro\",processed_img)\n",
    "plt.show()\n",
    "cv2.waitKey()\n",
    "cv2.destroyAllWindows()"
   ]
  },
  {
   "cell_type": "code",
   "execution_count": null,
   "metadata": {},
   "outputs": [
    {
     "ename": "error",
     "evalue": "OpenCV(4.8.0) D:\\a\\opencv-python\\opencv-python\\opencv\\modules\\imgproc\\src\\hough.cpp:2269: error: (-215:Assertion failed) !_image.empty() && _image.type() == CV_8UC1 && (_image.isMat() || _image.isUMat()) in function 'cv::HoughCircles'\n",
     "output_type": "error",
     "traceback": [
      "\u001b[1;31m---------------------------------------------------------------------------\u001b[0m",
      "\u001b[1;31merror\u001b[0m                                     Traceback (most recent call last)",
      "Cell \u001b[1;32mIn[44], line 12\u001b[0m\n\u001b[0;32m      1\u001b[0m \u001b[38;5;66;03m# # Apply Hough transform \u001b[39;00m\n\u001b[0;32m      2\u001b[0m \u001b[38;5;66;03m# raw_image = cv2.imread(filename)\u001b[39;00m\n\u001b[0;32m      3\u001b[0m \u001b[38;5;66;03m# a,b,_ = raw_image.shape\u001b[39;00m\n\u001b[1;32m   (...)\u001b[0m\n\u001b[0;32m      8\u001b[0m \u001b[38;5;66;03m# processed_img = depth.copy()\u001b[39;00m\n\u001b[0;32m      9\u001b[0m \u001b[38;5;66;03m# processed_img = blur_image(processed_img,3,True,True)\u001b[39;00m\n\u001b[1;32m---> 12\u001b[0m detected_circles \u001b[38;5;241m=\u001b[39m cv2\u001b[38;5;241m.\u001b[39mHoughCircles(processed_img,  \n\u001b[0;32m     13\u001b[0m                    cv2\u001b[38;5;241m.\u001b[39mHOUGH_GRADIENT, \u001b[38;5;241m2\u001b[39m, \u001b[38;5;241m50\u001b[39m, \n\u001b[0;32m     14\u001b[0m                    param1 \u001b[38;5;241m=\u001b[39m \u001b[38;5;241m20\u001b[39m,     param2 \u001b[38;5;241m=\u001b[39m \u001b[38;5;241m5\u001b[39m, \u001b[38;5;66;03m# param1 = 50, param2= 10\u001b[39;00m\n\u001b[0;32m     15\u001b[0m                    minRadius \u001b[38;5;241m=\u001b[39m \u001b[38;5;241m1\u001b[39m,   maxRadius \u001b[38;5;241m=\u001b[39m\u001b[38;5;241m8\u001b[39m) \n\u001b[0;32m     18\u001b[0m vector_compare_radius_depth \u001b[38;5;241m=\u001b[39m []\n\u001b[0;32m     20\u001b[0m \u001b[38;5;66;03m# print(len(detected_circles))\u001b[39;00m\n\u001b[0;32m     21\u001b[0m \u001b[38;5;66;03m# Draw circles that are detected. \u001b[39;00m\n",
      "\u001b[1;31merror\u001b[0m: OpenCV(4.8.0) D:\\a\\opencv-python\\opencv-python\\opencv\\modules\\imgproc\\src\\hough.cpp:2269: error: (-215:Assertion failed) !_image.empty() && _image.type() == CV_8UC1 && (_image.isMat() || _image.isUMat()) in function 'cv::HoughCircles'\n"
     ]
    }
   ],
   "source": [
    "# # Apply Hough transform \n",
    "# raw_image = cv2.imread(filename)\n",
    "# a,b,_ = raw_image.shape\n",
    "# np.floor(a/14)*14\n",
    "# np.floor(b/14)*14\n",
    "# raw_image = raw_image[:int(np.floor(a/14)*14),:int(np.floor(b/14)*14),:]\n",
    "\n",
    "# processed_img = depth.copy()\n",
    "# processed_img = blur_image(processed_img,3,True,True)\n",
    "\n",
    "\n",
    "detected_circles = cv2.HoughCircles(processed_img,  \n",
    "                   cv2.HOUGH_GRADIENT, 2, 50, \n",
    "                   param1 = 20,     param2 = 5, # param1 = 50, param2= 10\n",
    "                   minRadius = 1,   maxRadius =8) \n",
    "\n",
    "\n",
    "vector_compare_radius_depth = []\n",
    "\n",
    "# print(len(detected_circles))\n",
    "# Draw circles that are detected. \n",
    "if detected_circles is not None: \n",
    "\n",
    "    for pt in detected_circles[0, :]: \n",
    "        a, b, r = pt[0], pt[1], pt[2] \n",
    "        a, b, r = np.uint16((a,b,r))\n",
    "        depth_of_circle  = check_depth_in_a_circle(depth, pt)\n",
    "        if depth_of_circle < 70:\n",
    "            continue         \n",
    "\n",
    "        # Draw the circumference of the circle. \n",
    "\n",
    "        # Draw a small circle (of radius 1) to show the center. \n",
    "        # cv2.circle(img, (a, b), 1, (0, 0, 255), 3) \n",
    "        \n",
    "        # Write distances\n",
    "        text = str( round(calculate_distance(pt[2]) ) ) + '-' +str(round(depth_of_circle))\n",
    "        # text = str(round(depth_of_circle))\n",
    "        # text = str( round(pt[2],1) )\n",
    "        \n",
    "        \n",
    "        # Extract ROI for extra filtering\n",
    "        x_start = max(a - r, 0)\n",
    "        y_start = max(b - r, 0)\n",
    "        x_end = min(a + r, processed_img.shape[1])\n",
    "        y_end = min(b + r, processed_img.shape[0])\n",
    "        roi = processed_img[y_start:y_end, x_start:x_end]\n",
    "        \n",
    "        # Apply extra filtering with relaxed thresholds\n",
    "        if filter_detection(roi, r, circ_thresh=0.6, fill_thresh=0.6):\n",
    "            cv2.circle(raw_image, (a, b), r, (0, 255, 0), 1) \n",
    "            cv2.circle(processed_img, (a, b), r, (0, 255, 0), 1) \n",
    "\n",
    "            # print(text)\n",
    "            cv2.putText(processed_img,text,(a,b),fontFace=1,fontScale=1,color=255)\n",
    "            cv2.putText(raw_image,text,(a,b),fontFace=1,fontScale=1,color=255)\n",
    "            vector_compare_radius_depth.append([a, b, calculate_distance(pt[2]), depth_of_circle])\n",
    "\n",
    "cv2.imshow(\"Detected Circle\", processed_img) \n",
    "plt.show()\n",
    "cv2.waitKey(0) \n",
    "cv2.destroyAllWindows()\n",
    "\n",
    "\n",
    "cv2.imshow(\"Detected Circle\", raw_image) \n",
    "plt.show()\n",
    "cv2.waitKey(0) \n",
    "cv2.destroyAllWindows()\n"
   ]
  },
  {
   "cell_type": "code",
   "execution_count": 329,
   "metadata": {},
   "outputs": [
    {
     "data": {
      "text/plain": [
       "[[613.0, 473.0, 170],\n",
       " [689.0, 737.0, 107],\n",
       " [719.0, 841.0, 104],\n",
       " [667.0, 673.0, 119],\n",
       " [747.0, 945.0, 82],\n",
       " [951.0, 983.0, 63],\n",
       " [939.0, 877.0, 60],\n",
       " [791.0, 1061.0, 68],\n",
       " [627.0, 525.0, 145],\n",
       " [645.0, 611.0, 136],\n",
       " [677.0, 445.0, 167],\n",
       " [955.0, 1061.0, 64],\n",
       " [561.0, 301.0, 196],\n",
       " [603.0, 381.0, 172],\n",
       " [525.0, 73.0, 219],\n",
       " [699.0, 793.0, 105],\n",
       " [561.0, 223.0, 196],\n",
       " [539.0, 133.0, 211],\n",
       " [797.0, 895.0, 74],\n",
       " [729.0, 893.0, 89],\n",
       " [769.0, 991.0, 69],\n",
       " [749.0, 731.0, 105],\n",
       " [479.0, 7.0, 255],\n",
       " [991.0, 939.0, 38],\n",
       " [827.0, 981.0, 58],\n",
       " [1067.0, 911.0, 62],\n",
       " [583.0, 429.0, 144],\n",
       " [525.0, 185.0, 214],\n",
       " [903.0, 931.0, 41],\n",
       " [989.0, 873.0, 59]]"
      ]
     },
     "execution_count": 329,
     "metadata": {},
     "output_type": "execute_result"
    }
   ],
   "source": [
    "def check_depth_in_circles(depth, detected_circles, max_th = 30):\n",
    "    depth_vector = []\n",
    "    for pt in detected_circles[0,:]:\n",
    "        x,y = pt[0],pt[1]\n",
    "        r = pt[2]\n",
    "\n",
    "        # print(x,y,r)\n",
    "        ix_min, ix_max = [np.max([np.floor(x-r),0]).astype(int), np.min([np.ceil(x+r),1080-1]).astype(int)]\n",
    "        iy_min, iy_max = (np.max([np.floor(y-r),0]).astype(int), np.min([np.ceil(y+r),1920-1]).astype(int))\n",
    "        \n",
    "        max = 0\n",
    "        for ix in range(ix_min, ix_max):\n",
    "            for iy in range(iy_min, iy_max):\n",
    "                # (ix,iy)\n",
    "                if( (ix-x)**2 + (iy-y)**2 <= r**2):\n",
    "                    # print(ix,iy,depth[iy,ix],depth[iy,ix]>max)\n",
    "                    if depth[iy,ix] > max:\n",
    "                        max = depth[iy,ix]\n",
    "                    # else:\n",
    "                    #     if max == 0:\n",
    "                    #         print('depth: ',depth[iy,ix])\n",
    "        # print('max =',max)\n",
    "        if max > max_th:\n",
    "            depth_vector.append([x,y,max])\n",
    "    return depth_vector\n",
    "\n",
    "\n",
    "check_depth_in_circles(depth,detected_circles,30)"
   ]
  },
  {
   "cell_type": "code",
   "execution_count": null,
   "metadata": {},
   "outputs": [],
   "source": [
    "import math\n",
    "\n",
    "def filter_detection(roi, r, circ_thresh=0.6, fill_thresh=0.6):\n",
    "    \"\"\"\n",
    "    Check if the ROI (grayscale) is near-circular and filled.\n",
    "    Uses Otsu's thresholding and contour analysis.\n",
    "    Returns True if both circularity and fill ratio exceed the thresholds.\n",
    "    \"\"\"\n",
    "    ret, binary = cv2.threshold(roi, 0, 255, cv2.THRESH_BINARY + cv2.THRESH_OTSU)\n",
    "    contours, _ = cv2.findContours(binary, cv2.RETR_EXTERNAL, cv2.CHAIN_APPROX_SIMPLE)\n",
    "    if not contours:\n",
    "        return False\n",
    "    cnt = max(contours, key=cv2.contourArea)\n",
    "    area = cv2.contourArea(cnt)\n",
    "    perimeter = cv2.arcLength(cnt, True)\n",
    "    if perimeter == 0:\n",
    "        return False\n",
    "    circularity = 4 * math.pi * (area / (perimeter * perimeter))\n",
    "    expected_area = math.pi * (r ** 2)\n",
    "    fill_ratio = area / expected_area if expected_area > 0 else 0\n",
    "    return (circularity >= circ_thresh) and (fill_ratio >= fill_thresh)\n"
   ]
  },
  {
   "cell_type": "markdown",
   "metadata": {},
   "source": [
    "# Using COCO anottations (manual labor)"
   ]
  },
  {
   "cell_type": "code",
   "execution_count": 363,
   "metadata": {},
   "outputs": [
    {
     "name": "stdout",
     "output_type": "stream",
     "text": [
      "loading annotations into memory...\n",
      "Done (t=0.00s)\n",
      "creating index...\n",
      "index created!\n"
     ]
    }
   ],
   "source": [
    "from pycocotools.coco import COCO\n",
    "import numpy as np\n",
    "import skimage.io as io\n",
    "import matplotlib.pyplot as plt\n",
    "import pylab\n",
    "\n",
    "dataDir='./DATASET/balls_distance_test'\n",
    "# dataType='val2017'\n",
    "annFile='{}/result.json'.format(dataDir)\n",
    "\n",
    "image_id = 1\n",
    "\n",
    "\n",
    "# initialize COCO api for instance annotations\n",
    "coco=COCO(annFile)\n",
    "\n",
    "if image_id != coco.imgs[image_id]['id']:\n",
    "    print(\"ID diferente \")\n",
    "    image_id = coco.imgs[image_id]['id']\n",
    "\n",
    "imgFile='{}/images/{}'.format(dataDir,coco.imgs[image_id]['file_name'].split('/')[-1])\n",
    "raw_image = cv2.imread(imgFile)\n",
    "a,b,_ = raw_image.shape\n",
    "np.floor(a/14)*14\n",
    "np.floor(b/14)*14\n",
    "raw_image = raw_image[:int(np.floor(a/14)*14),:int(np.floor(b/14)*14),:]\n",
    "\n",
    "up_sampling = 4\n",
    "\n",
    "img_segmation = np.zeros([i*up_sampling for i in raw_image.shape[:2]],dtype=np.uint8)\n",
    "\n",
    "image_segmentatted = raw_image.copy()\n",
    "\n",
    "\n",
    "for key in coco.anns:\n",
    "    annotation = coco.anns[key]\n",
    "    if annotation['image_id'] == image_id:\n",
    "        seg_xy = np.array([ [annotation['segmentation'][0][i]*up_sampling, \n",
    "                             annotation['segmentation'][0][i+1]*up_sampling ] \n",
    "                                for i in range(0,len(annotation['segmentation'][0]),2)] \n",
    "                          ,dtype=np.int32)\n",
    "\n",
    "        cv2.fillPoly(img_segmation, [seg_xy], 255)\n",
    "        cv2.polylines(image_segmentatted, [seg_xy], 1, (255,255,255), 1)\n",
    "\n",
    "\n",
    "\n",
    "cv2.imshow(\"Check poli\", img_segmation)\n",
    "cv2.waitKey(0)\n",
    "cv2.destroyAllWindows()\n",
    "\n",
    "imS = cv2.resize(img_segmation, (960, 540))                # Resize image\n",
    "cv2.imshow(\"output\", imS)                       # Show image\n",
    "cv2.waitKey(0)                                  # Display the image infinitely until any keypress\n",
    "\n",
    "\n",
    "cv2.imshow(\"Check poli\", image_segmentatted)\n",
    "cv2.waitKey(0)\n",
    "cv2.destroyAllWindows()"
   ]
  },
  {
   "cell_type": "code",
   "execution_count": 364,
   "metadata": {},
   "outputs": [
    {
     "name": "stdout",
     "output_type": "stream",
     "text": [
      "Memory allocated 0.37308454513549805 Gb\n",
      "DEVICE: cuda\n",
      "0 255\n"
     ]
    }
   ],
   "source": [
    "# https://github.com/DepthAnything/Depth-Anything-V2?tab=readme-ov-file\n",
    "torch.cuda.empty_cache()\n",
    "print(\"Memory allocated\", torch.cuda.memory_allocated()/1024/1024/1024,\"Gb\")\n",
    "\n",
    "DEVICE = 'cuda' if torch.cuda.is_available() else 'mps' if torch.backends.mps.is_available() else 'cpu'\n",
    "print(\"DEVICE:\", DEVICE)\n",
    "\n",
    "model_configs = {\n",
    "    'vits': {'encoder': 'vits', 'features': 64, 'out_channels': [48, 96, 192, 384]},\n",
    "    'vitb': {'encoder': 'vitb', 'features': 128, 'out_channels': [96, 192, 384, 768]},\n",
    "    'vitl': {'encoder': 'vitl', 'features': 256, 'out_channels': [256, 512, 1024, 1024]},\n",
    "    'vitg': {'encoder': 'vitg', 'features': 384, 'out_channels': [1536, 1536, 1536, 1536]}\n",
    "}\n",
    "    \n",
    "encoder = 'vitb' # or 'vits', 'vitl', 'vitg'\n",
    "\n",
    "depth_anything = DepthAnythingV2(**model_configs[encoder])\n",
    "depth_anything.load_state_dict(torch.load(f'Depth-Anything-V2/depth_anything_v2_{encoder}.pth', map_location='cpu'))\n",
    "depth_anything = depth_anything.to(DEVICE).eval()\n",
    "\n",
    "\n",
    "depth = depth_anything.infer_image(raw_image,   np.floor(a/14)*14)\n",
    "\n",
    "depth = (depth - depth.min()) / (depth.max() - depth.min()) * 255.0\n",
    "depth = depth.astype(np.uint8)\n",
    "\n",
    "depth\n",
    "print(depth.min(), depth.max())"
   ]
  },
  {
   "cell_type": "code",
   "execution_count": 370,
   "metadata": {},
   "outputs": [
    {
     "data": {
      "text/plain": [
       "0"
      ]
     },
     "execution_count": 370,
     "metadata": {},
     "output_type": "execute_result"
    }
   ],
   "source": [
    "check_depth_in_a_circle(depth, pt)"
   ]
  },
  {
   "cell_type": "code",
   "execution_count": 368,
   "metadata": {},
   "outputs": [
    {
     "name": "stdout",
     "output_type": "stream",
     "text": [
      "shape: (4312, 7672)\n",
      "677.75 444.75 4.900000095367432 and 2711.0 1779.0 19.6 and 146.93877265037278 146.93877265037278\n",
      "1140.75 158.25 5.699999809265137 and 4563.0 633.0 22.8 and 126.31579370049572 126.31579370049572\n",
      "749.25 731.25 4.050000190734863 and 2997.0 2925.0 16.2 and 177.77776940532874 177.77776940532874\n",
      "1107.75 569.25 4.25 and 4431.0 2277.0 17.0 and 169.41176470588232 169.41176470588232\n",
      "796.75 894.25 3.3499999046325684 and 3187.0 3577.0 13.4 and 214.92537925280044 214.92537925280044\n",
      "848.25 1028.75 2.4000000953674316 and 3393.0 4115.0 9.6 and 299.9999880790715 299.9999880790715\n",
      "826.75 980.75 2.5 and 3307.0 3923.0 10.0 and 288.0 288.0\n",
      "1085.75 786.25 4.050000190734863 and 4343.0 3145.0 16.2 and 177.77776940532874 177.77776940532874\n",
      "1055.25 978.75 2.3499999046325684 and 4221.0 3915.0 9.4 and 306.3829911570038 306.3829911570038\n",
      "1043.75 1018.25 2.200000047683716 and 4175.0 4073.0 8.8 and 327.2727201792821 327.2727201792821\n",
      "1068.25 910.75 2.9000000953674316 and 4273.0 3643.0 11.6 and 248.27585390433427 248.27585390433427\n",
      "868.75 1053.75 2.75 and 3475.0 4215.0 11.0 and 261.8181818181818 261.8181818181818\n",
      "1032.75 1032.75 1.75 and 4131.0 4131.0 7.0 and 411.4285714285714 411.4285714285714\n"
     ]
    }
   ],
   "source": [
    "# processed_img = blur_image(img_segmation,1,True,True,kernel2=2)\n",
    "processed_img = img_segmation\n",
    "\n",
    "print(\"shape:\", processed_img.shape)\n",
    "detected_circles = cv2.HoughCircles(processed_img,  \n",
    "                   cv2.HOUGH_GRADIENT, 2, 50, \n",
    "                   param1 = 50,     param2 = 10, # param1 = 50, param2= 10\n",
    "                   minRadius = 0,   maxRadius =10*up_sampling) \n",
    "\n",
    "\n",
    "vector_compare_radius_depth = []\n",
    "\n",
    "\n",
    "processed_img_color = cv2.cvtColor(processed_img, cv2.COLOR_GRAY2BGR )\n",
    "processed_img_color = cv2.resize(processed_img_color, raw_image.shape[:2])\n",
    "\n",
    "# print(len(detected_circles))\n",
    "# Draw circles that are detected. \n",
    "if detected_circles is not None: \n",
    "\n",
    "    for pt in detected_circles[0, :]: \n",
    "        a, b, r = pt[0]/up_sampling, pt[1]/up_sampling, pt[2]/up_sampling \n",
    "        print(a, b, r , 'and', pt[0], pt[1], pt[2], \"and\", calculate_distance(pt[2]/up_sampling), calculate_distance(r))\n",
    "        a, b, r = np.uint16((a,b,r))\n",
    "\n",
    "        depth_of_circle  = check_depth_in_a_circle(depth, pt)\n",
    "        # if depth_of_circle < 70:\n",
    "            # continue         \n",
    "\n",
    "        # Draw the circumference of the circle. \n",
    "\n",
    "        # Draw a small circle (of radius 1) to show the center. \n",
    "        # cv2.circle(img, (a, b), 1, (0, 0, 255), 3) \n",
    "        \n",
    "        # Write distances\n",
    "        text = str( round(calculate_distance(pt[2]/up_sampling) ) ) + '-' +str(round(depth_of_circle))\n",
    "        # text = str(round(depth_of_circle))\n",
    "        # text = str( round(pt[2],1) )\n",
    "        \n",
    "        \n",
    "        # # Extract ROI for extra filtering\n",
    "        # x_start = max(a - r, 0)\n",
    "        # y_start = max(b - r, 0)\n",
    "        # x_end = min(a + r, raw_image.shape[1])\n",
    "        # y_end = min(b + r, raw_image.shape[0])\n",
    "        # roi = raw_image[y_start:y_end, x_start:x_end]\n",
    "        \n",
    "        # # Apply extra filtering with relaxed thresholds\n",
    "        # # if filter_detection(roi, r, circ_thresh=0.6, fill_thresh=0.6):\n",
    "        cv2.circle(raw_image, (a, b), r, (255, 0, 0), 1) \n",
    "        cv2.circle(processed_img_color, (a, b), r, (0, 255, 0), 2) \n",
    "\n",
    "        # print(text)\n",
    "        cv2.putText(processed_img_color,text,(a,b),fontFace=1,fontScale=1,color=128,thickness=2,lineType=3)\n",
    "        cv2.putText(raw_image,text,(a,b),fontFace=1,fontScale=1,color=255)\n",
    "        vector_compare_radius_depth.append([a, b, calculate_distance(pt[2]), depth_of_circle])\n",
    "\n",
    "cv2.imshow(\"Detected Circle\", processed_img_color) \n",
    "plt.show()\n",
    "cv2.waitKey(0) \n",
    "cv2.destroyAllWindows()\n",
    "\n",
    "\n",
    "# imS = cv2.resize(raw_image, (960, 540))                # Resize image\n",
    "# cv2.imshow(\"output\", imS)                       # Show image\n",
    "# cv2.waitKey(0)                                  # Display the image infinitely until any keypress\n",
    "\n",
    "\n",
    "cv2.imshow(\"Detected Circle\", raw_image) \n",
    "plt.show()\n",
    "cv2.waitKey(0) \n",
    "cv2.destroyAllWindows()\n"
   ]
  },
  {
   "cell_type": "code",
   "execution_count": 366,
   "metadata": {},
   "outputs": [],
   "source": [
    "from sklearn.linear_model import LinearRegression"
   ]
  },
  {
   "cell_type": "code",
   "execution_count": 367,
   "metadata": {},
   "outputs": [
    {
     "data": {
      "image/png": "[encoded data removed]",
      "text/plain": [
       "<Figure size 640x480 with 1 Axes>"
      ]
     },
     "metadata": {},
     "output_type": "display_data"
    },
    {
     "data": {
      "text/plain": [
       "(array([0.]), 60.698568378589506)"
      ]
     },
     "execution_count": 367,
     "metadata": {},
     "output_type": "execute_result"
    }
   ],
   "source": [
    "distantece_y = np.array([ i[2] for i in vector_compare_radius_depth])\n",
    "depth_x = np.array([ [i[3]] for i in vector_compare_radius_depth])\n",
    "\n",
    "plt.scatter(depth_x,distantece_y)\n",
    "\n",
    "distanceLR = LinearRegression().fit(depth_x,distantece_y)\n",
    "\n",
    "plt.plot(depth_x, depth_x * distanceLR.coef_[0] + distanceLR.intercept_, 'r:')\n",
    "plt.xlabel(\"Profundidade relativa\")\n",
    "plt.ylabel(\"Distancia [m]\")\n",
    "plt.show()\n",
    "\n",
    "\n",
    "distanceLR.coef_ , distanceLR.intercept_ "
   ]
  },
  {
   "cell_type": "code",
   "execution_count": null,
   "metadata": {},
   "outputs": [],
   "source": []
  }
 ],
 "metadata": {
  "kernelspec": {
   "display_name": "base",
   "language": "python",
   "name": "python3"
  },
  "language_info": {
   "codemirror_mode": {
    "name": "ipython",
    "version": 3
   },
   "file_extension": ".py",
   "mimetype": "text/x-python",
   "name": "python",
   "nbconvert_exporter": "python",
   "pygments_lexer": "ipython3",
   "version": "3.11.5"
  }
 },
 "nbformat": 4,
 "nbformat_minor": 2
}
